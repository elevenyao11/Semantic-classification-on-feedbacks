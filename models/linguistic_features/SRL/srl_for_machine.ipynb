{
  "nbformat": 4,
  "nbformat_minor": 0,
  "metadata": {
    "colab": {
      "name": "srl-for-machine.ipynb",
      "provenance": [],
      "collapsed_sections": [],
      "toc_visible": true
    },
    "kernelspec": {
      "display_name": "Python 3",
      "language": "python",
      "name": "python3"
    },
    "language_info": {
      "codemirror_mode": {
        "name": "ipython",
        "version": 3
      },
      "file_extension": ".py",
      "mimetype": "text/x-python",
      "name": "python",
      "nbconvert_exporter": "python",
      "pygments_lexer": "ipython3",
      "version": "3.8.5"
    },
    "widgets": {
      "application/vnd.jupyter.widget-state+json": {
        "6f4c72cf118a47afbc725ff37faef597": {
          "model_module": "@jupyter-widgets/controls",
          "model_name": "HBoxModel",
          "state": {
            "_view_name": "HBoxView",
            "_dom_classes": [],
            "_model_name": "HBoxModel",
            "_view_module": "@jupyter-widgets/controls",
            "_model_module_version": "1.5.0",
            "_view_count": null,
            "_view_module_version": "1.5.0",
            "box_style": "",
            "layout": "IPY_MODEL_1cdb4e0c863243738cd0be4e70f1d8f5",
            "_model_module": "@jupyter-widgets/controls",
            "children": [
              "IPY_MODEL_140b78ccc0034f80baf7a97831e688c5",
              "IPY_MODEL_8d9baaa86d794ab1b4cf19118e5b00c2"
            ]
          }
        },
        "1cdb4e0c863243738cd0be4e70f1d8f5": {
          "model_module": "@jupyter-widgets/base",
          "model_name": "LayoutModel",
          "state": {
            "_view_name": "LayoutView",
            "grid_template_rows": null,
            "right": null,
            "justify_content": null,
            "_view_module": "@jupyter-widgets/base",
            "overflow": null,
            "_model_module_version": "1.2.0",
            "_view_count": null,
            "flex_flow": null,
            "width": null,
            "min_width": null,
            "border": null,
            "align_items": null,
            "bottom": null,
            "_model_module": "@jupyter-widgets/base",
            "top": null,
            "grid_column": null,
            "overflow_y": null,
            "overflow_x": null,
            "grid_auto_flow": null,
            "grid_area": null,
            "grid_template_columns": null,
            "flex": null,
            "_model_name": "LayoutModel",
            "justify_items": null,
            "grid_row": null,
            "max_height": null,
            "align_content": null,
            "visibility": null,
            "align_self": null,
            "height": null,
            "min_height": null,
            "padding": null,
            "grid_auto_rows": null,
            "grid_gap": null,
            "max_width": null,
            "order": null,
            "_view_module_version": "1.2.0",
            "grid_template_areas": null,
            "object_position": null,
            "object_fit": null,
            "grid_auto_columns": null,
            "margin": null,
            "display": null,
            "left": null
          }
        },
        "140b78ccc0034f80baf7a97831e688c5": {
          "model_module": "@jupyter-widgets/controls",
          "model_name": "FloatProgressModel",
          "state": {
            "_view_name": "ProgressView",
            "style": "IPY_MODEL_4fca45d52ebb457aad0ad6ee76f0f4ab",
            "_dom_classes": [],
            "description": "Downloading: 100%",
            "_model_name": "FloatProgressModel",
            "bar_style": "success",
            "max": 570,
            "_view_module": "@jupyter-widgets/controls",
            "_model_module_version": "1.5.0",
            "value": 570,
            "_view_count": null,
            "_view_module_version": "1.5.0",
            "orientation": "horizontal",
            "min": 0,
            "description_tooltip": null,
            "_model_module": "@jupyter-widgets/controls",
            "layout": "IPY_MODEL_79c32c978a3c447386d2cbd47ed1ff60"
          }
        },
        "8d9baaa86d794ab1b4cf19118e5b00c2": {
          "model_module": "@jupyter-widgets/controls",
          "model_name": "HTMLModel",
          "state": {
            "_view_name": "HTMLView",
            "style": "IPY_MODEL_65c94736fb4c4822bc40c9551860b6f1",
            "_dom_classes": [],
            "description": "",
            "_model_name": "HTMLModel",
            "placeholder": "​",
            "_view_module": "@jupyter-widgets/controls",
            "_model_module_version": "1.5.0",
            "value": " 570/570 [00:00&lt;00:00, 1.03kB/s]",
            "_view_count": null,
            "_view_module_version": "1.5.0",
            "description_tooltip": null,
            "_model_module": "@jupyter-widgets/controls",
            "layout": "IPY_MODEL_27470a71ba9f4da596893c4e958a3af8"
          }
        },
        "4fca45d52ebb457aad0ad6ee76f0f4ab": {
          "model_module": "@jupyter-widgets/controls",
          "model_name": "ProgressStyleModel",
          "state": {
            "_view_name": "StyleView",
            "_model_name": "ProgressStyleModel",
            "description_width": "initial",
            "_view_module": "@jupyter-widgets/base",
            "_model_module_version": "1.5.0",
            "_view_count": null,
            "_view_module_version": "1.2.0",
            "bar_color": null,
            "_model_module": "@jupyter-widgets/controls"
          }
        },
        "79c32c978a3c447386d2cbd47ed1ff60": {
          "model_module": "@jupyter-widgets/base",
          "model_name": "LayoutModel",
          "state": {
            "_view_name": "LayoutView",
            "grid_template_rows": null,
            "right": null,
            "justify_content": null,
            "_view_module": "@jupyter-widgets/base",
            "overflow": null,
            "_model_module_version": "1.2.0",
            "_view_count": null,
            "flex_flow": null,
            "width": null,
            "min_width": null,
            "border": null,
            "align_items": null,
            "bottom": null,
            "_model_module": "@jupyter-widgets/base",
            "top": null,
            "grid_column": null,
            "overflow_y": null,
            "overflow_x": null,
            "grid_auto_flow": null,
            "grid_area": null,
            "grid_template_columns": null,
            "flex": null,
            "_model_name": "LayoutModel",
            "justify_items": null,
            "grid_row": null,
            "max_height": null,
            "align_content": null,
            "visibility": null,
            "align_self": null,
            "height": null,
            "min_height": null,
            "padding": null,
            "grid_auto_rows": null,
            "grid_gap": null,
            "max_width": null,
            "order": null,
            "_view_module_version": "1.2.0",
            "grid_template_areas": null,
            "object_position": null,
            "object_fit": null,
            "grid_auto_columns": null,
            "margin": null,
            "display": null,
            "left": null
          }
        },
        "65c94736fb4c4822bc40c9551860b6f1": {
          "model_module": "@jupyter-widgets/controls",
          "model_name": "DescriptionStyleModel",
          "state": {
            "_view_name": "StyleView",
            "_model_name": "DescriptionStyleModel",
            "description_width": "",
            "_view_module": "@jupyter-widgets/base",
            "_model_module_version": "1.5.0",
            "_view_count": null,
            "_view_module_version": "1.2.0",
            "_model_module": "@jupyter-widgets/controls"
          }
        },
        "27470a71ba9f4da596893c4e958a3af8": {
          "model_module": "@jupyter-widgets/base",
          "model_name": "LayoutModel",
          "state": {
            "_view_name": "LayoutView",
            "grid_template_rows": null,
            "right": null,
            "justify_content": null,
            "_view_module": "@jupyter-widgets/base",
            "overflow": null,
            "_model_module_version": "1.2.0",
            "_view_count": null,
            "flex_flow": null,
            "width": null,
            "min_width": null,
            "border": null,
            "align_items": null,
            "bottom": null,
            "_model_module": "@jupyter-widgets/base",
            "top": null,
            "grid_column": null,
            "overflow_y": null,
            "overflow_x": null,
            "grid_auto_flow": null,
            "grid_area": null,
            "grid_template_columns": null,
            "flex": null,
            "_model_name": "LayoutModel",
            "justify_items": null,
            "grid_row": null,
            "max_height": null,
            "align_content": null,
            "visibility": null,
            "align_self": null,
            "height": null,
            "min_height": null,
            "padding": null,
            "grid_auto_rows": null,
            "grid_gap": null,
            "max_width": null,
            "order": null,
            "_view_module_version": "1.2.0",
            "grid_template_areas": null,
            "object_position": null,
            "object_fit": null,
            "grid_auto_columns": null,
            "margin": null,
            "display": null,
            "left": null
          }
        },
        "260947cb579949d0af155f309d778796": {
          "model_module": "@jupyter-widgets/controls",
          "model_name": "HBoxModel",
          "state": {
            "_view_name": "HBoxView",
            "_dom_classes": [],
            "_model_name": "HBoxModel",
            "_view_module": "@jupyter-widgets/controls",
            "_model_module_version": "1.5.0",
            "_view_count": null,
            "_view_module_version": "1.5.0",
            "box_style": "",
            "layout": "IPY_MODEL_18bb1b61f20d49b89f417d1c877d19e9",
            "_model_module": "@jupyter-widgets/controls",
            "children": [
              "IPY_MODEL_f84d4966e65b466d93ef149078182843",
              "IPY_MODEL_6747757d87cf4281a0740aeee0a348a8"
            ]
          }
        },
        "18bb1b61f20d49b89f417d1c877d19e9": {
          "model_module": "@jupyter-widgets/base",
          "model_name": "LayoutModel",
          "state": {
            "_view_name": "LayoutView",
            "grid_template_rows": null,
            "right": null,
            "justify_content": null,
            "_view_module": "@jupyter-widgets/base",
            "overflow": null,
            "_model_module_version": "1.2.0",
            "_view_count": null,
            "flex_flow": null,
            "width": null,
            "min_width": null,
            "border": null,
            "align_items": null,
            "bottom": null,
            "_model_module": "@jupyter-widgets/base",
            "top": null,
            "grid_column": null,
            "overflow_y": null,
            "overflow_x": null,
            "grid_auto_flow": null,
            "grid_area": null,
            "grid_template_columns": null,
            "flex": null,
            "_model_name": "LayoutModel",
            "justify_items": null,
            "grid_row": null,
            "max_height": null,
            "align_content": null,
            "visibility": null,
            "align_self": null,
            "height": null,
            "min_height": null,
            "padding": null,
            "grid_auto_rows": null,
            "grid_gap": null,
            "max_width": null,
            "order": null,
            "_view_module_version": "1.2.0",
            "grid_template_areas": null,
            "object_position": null,
            "object_fit": null,
            "grid_auto_columns": null,
            "margin": null,
            "display": null,
            "left": null
          }
        },
        "f84d4966e65b466d93ef149078182843": {
          "model_module": "@jupyter-widgets/controls",
          "model_name": "FloatProgressModel",
          "state": {
            "_view_name": "ProgressView",
            "style": "IPY_MODEL_abc3073188954b6c999b2a9f085ff98d",
            "_dom_classes": [],
            "description": "Downloading: 100%",
            "_model_name": "FloatProgressModel",
            "bar_style": "success",
            "max": 231508,
            "_view_module": "@jupyter-widgets/controls",
            "_model_module_version": "1.5.0",
            "value": 231508,
            "_view_count": null,
            "_view_module_version": "1.5.0",
            "orientation": "horizontal",
            "min": 0,
            "description_tooltip": null,
            "_model_module": "@jupyter-widgets/controls",
            "layout": "IPY_MODEL_feeb4af283d54a4baaa9daa2a0a94077"
          }
        },
        "6747757d87cf4281a0740aeee0a348a8": {
          "model_module": "@jupyter-widgets/controls",
          "model_name": "HTMLModel",
          "state": {
            "_view_name": "HTMLView",
            "style": "IPY_MODEL_201bba7e14c34028a8863cea25249e30",
            "_dom_classes": [],
            "description": "",
            "_model_name": "HTMLModel",
            "placeholder": "​",
            "_view_module": "@jupyter-widgets/controls",
            "_model_module_version": "1.5.0",
            "value": " 232k/232k [00:00&lt;00:00, 534kB/s]",
            "_view_count": null,
            "_view_module_version": "1.5.0",
            "description_tooltip": null,
            "_model_module": "@jupyter-widgets/controls",
            "layout": "IPY_MODEL_4990209b91ce4fb1b3e3cf04e666d52e"
          }
        },
        "abc3073188954b6c999b2a9f085ff98d": {
          "model_module": "@jupyter-widgets/controls",
          "model_name": "ProgressStyleModel",
          "state": {
            "_view_name": "StyleView",
            "_model_name": "ProgressStyleModel",
            "description_width": "initial",
            "_view_module": "@jupyter-widgets/base",
            "_model_module_version": "1.5.0",
            "_view_count": null,
            "_view_module_version": "1.2.0",
            "bar_color": null,
            "_model_module": "@jupyter-widgets/controls"
          }
        },
        "feeb4af283d54a4baaa9daa2a0a94077": {
          "model_module": "@jupyter-widgets/base",
          "model_name": "LayoutModel",
          "state": {
            "_view_name": "LayoutView",
            "grid_template_rows": null,
            "right": null,
            "justify_content": null,
            "_view_module": "@jupyter-widgets/base",
            "overflow": null,
            "_model_module_version": "1.2.0",
            "_view_count": null,
            "flex_flow": null,
            "width": null,
            "min_width": null,
            "border": null,
            "align_items": null,
            "bottom": null,
            "_model_module": "@jupyter-widgets/base",
            "top": null,
            "grid_column": null,
            "overflow_y": null,
            "overflow_x": null,
            "grid_auto_flow": null,
            "grid_area": null,
            "grid_template_columns": null,
            "flex": null,
            "_model_name": "LayoutModel",
            "justify_items": null,
            "grid_row": null,
            "max_height": null,
            "align_content": null,
            "visibility": null,
            "align_self": null,
            "height": null,
            "min_height": null,
            "padding": null,
            "grid_auto_rows": null,
            "grid_gap": null,
            "max_width": null,
            "order": null,
            "_view_module_version": "1.2.0",
            "grid_template_areas": null,
            "object_position": null,
            "object_fit": null,
            "grid_auto_columns": null,
            "margin": null,
            "display": null,
            "left": null
          }
        },
        "201bba7e14c34028a8863cea25249e30": {
          "model_module": "@jupyter-widgets/controls",
          "model_name": "DescriptionStyleModel",
          "state": {
            "_view_name": "StyleView",
            "_model_name": "DescriptionStyleModel",
            "description_width": "",
            "_view_module": "@jupyter-widgets/base",
            "_model_module_version": "1.5.0",
            "_view_count": null,
            "_view_module_version": "1.2.0",
            "_model_module": "@jupyter-widgets/controls"
          }
        },
        "4990209b91ce4fb1b3e3cf04e666d52e": {
          "model_module": "@jupyter-widgets/base",
          "model_name": "LayoutModel",
          "state": {
            "_view_name": "LayoutView",
            "grid_template_rows": null,
            "right": null,
            "justify_content": null,
            "_view_module": "@jupyter-widgets/base",
            "overflow": null,
            "_model_module_version": "1.2.0",
            "_view_count": null,
            "flex_flow": null,
            "width": null,
            "min_width": null,
            "border": null,
            "align_items": null,
            "bottom": null,
            "_model_module": "@jupyter-widgets/base",
            "top": null,
            "grid_column": null,
            "overflow_y": null,
            "overflow_x": null,
            "grid_auto_flow": null,
            "grid_area": null,
            "grid_template_columns": null,
            "flex": null,
            "_model_name": "LayoutModel",
            "justify_items": null,
            "grid_row": null,
            "max_height": null,
            "align_content": null,
            "visibility": null,
            "align_self": null,
            "height": null,
            "min_height": null,
            "padding": null,
            "grid_auto_rows": null,
            "grid_gap": null,
            "max_width": null,
            "order": null,
            "_view_module_version": "1.2.0",
            "grid_template_areas": null,
            "object_position": null,
            "object_fit": null,
            "grid_auto_columns": null,
            "margin": null,
            "display": null,
            "left": null
          }
        },
        "686730956c73470bbf1d499fa136f9c1": {
          "model_module": "@jupyter-widgets/controls",
          "model_name": "HBoxModel",
          "state": {
            "_view_name": "HBoxView",
            "_dom_classes": [],
            "_model_name": "HBoxModel",
            "_view_module": "@jupyter-widgets/controls",
            "_model_module_version": "1.5.0",
            "_view_count": null,
            "_view_module_version": "1.5.0",
            "box_style": "",
            "layout": "IPY_MODEL_41a26e55fa2c407daad63d3665f02d43",
            "_model_module": "@jupyter-widgets/controls",
            "children": [
              "IPY_MODEL_21d25cb722a64666bf09c71cdcef888d",
              "IPY_MODEL_3ecedb989bd64b3284b0dbf4a06448a3"
            ]
          }
        },
        "41a26e55fa2c407daad63d3665f02d43": {
          "model_module": "@jupyter-widgets/base",
          "model_name": "LayoutModel",
          "state": {
            "_view_name": "LayoutView",
            "grid_template_rows": null,
            "right": null,
            "justify_content": null,
            "_view_module": "@jupyter-widgets/base",
            "overflow": null,
            "_model_module_version": "1.2.0",
            "_view_count": null,
            "flex_flow": null,
            "width": null,
            "min_width": null,
            "border": null,
            "align_items": null,
            "bottom": null,
            "_model_module": "@jupyter-widgets/base",
            "top": null,
            "grid_column": null,
            "overflow_y": null,
            "overflow_x": null,
            "grid_auto_flow": null,
            "grid_area": null,
            "grid_template_columns": null,
            "flex": null,
            "_model_name": "LayoutModel",
            "justify_items": null,
            "grid_row": null,
            "max_height": null,
            "align_content": null,
            "visibility": null,
            "align_self": null,
            "height": null,
            "min_height": null,
            "padding": null,
            "grid_auto_rows": null,
            "grid_gap": null,
            "max_width": null,
            "order": null,
            "_view_module_version": "1.2.0",
            "grid_template_areas": null,
            "object_position": null,
            "object_fit": null,
            "grid_auto_columns": null,
            "margin": null,
            "display": null,
            "left": null
          }
        },
        "21d25cb722a64666bf09c71cdcef888d": {
          "model_module": "@jupyter-widgets/controls",
          "model_name": "FloatProgressModel",
          "state": {
            "_view_name": "ProgressView",
            "style": "IPY_MODEL_931a7113060847f9a849e0f5a022235f",
            "_dom_classes": [],
            "description": "Downloading: 100%",
            "_model_name": "FloatProgressModel",
            "bar_style": "success",
            "max": 466062,
            "_view_module": "@jupyter-widgets/controls",
            "_model_module_version": "1.5.0",
            "value": 466062,
            "_view_count": null,
            "_view_module_version": "1.5.0",
            "orientation": "horizontal",
            "min": 0,
            "description_tooltip": null,
            "_model_module": "@jupyter-widgets/controls",
            "layout": "IPY_MODEL_851bdfadd894484d9bd6df42ebaaa002"
          }
        },
        "3ecedb989bd64b3284b0dbf4a06448a3": {
          "model_module": "@jupyter-widgets/controls",
          "model_name": "HTMLModel",
          "state": {
            "_view_name": "HTMLView",
            "style": "IPY_MODEL_370125dd02394189b64ba49c7319bb39",
            "_dom_classes": [],
            "description": "",
            "_model_name": "HTMLModel",
            "placeholder": "​",
            "_view_module": "@jupyter-widgets/controls",
            "_model_module_version": "1.5.0",
            "value": " 466k/466k [00:00&lt;00:00, 1.59MB/s]",
            "_view_count": null,
            "_view_module_version": "1.5.0",
            "description_tooltip": null,
            "_model_module": "@jupyter-widgets/controls",
            "layout": "IPY_MODEL_78477269b3584999b7ec3a5c65147e35"
          }
        },
        "931a7113060847f9a849e0f5a022235f": {
          "model_module": "@jupyter-widgets/controls",
          "model_name": "ProgressStyleModel",
          "state": {
            "_view_name": "StyleView",
            "_model_name": "ProgressStyleModel",
            "description_width": "initial",
            "_view_module": "@jupyter-widgets/base",
            "_model_module_version": "1.5.0",
            "_view_count": null,
            "_view_module_version": "1.2.0",
            "bar_color": null,
            "_model_module": "@jupyter-widgets/controls"
          }
        },
        "851bdfadd894484d9bd6df42ebaaa002": {
          "model_module": "@jupyter-widgets/base",
          "model_name": "LayoutModel",
          "state": {
            "_view_name": "LayoutView",
            "grid_template_rows": null,
            "right": null,
            "justify_content": null,
            "_view_module": "@jupyter-widgets/base",
            "overflow": null,
            "_model_module_version": "1.2.0",
            "_view_count": null,
            "flex_flow": null,
            "width": null,
            "min_width": null,
            "border": null,
            "align_items": null,
            "bottom": null,
            "_model_module": "@jupyter-widgets/base",
            "top": null,
            "grid_column": null,
            "overflow_y": null,
            "overflow_x": null,
            "grid_auto_flow": null,
            "grid_area": null,
            "grid_template_columns": null,
            "flex": null,
            "_model_name": "LayoutModel",
            "justify_items": null,
            "grid_row": null,
            "max_height": null,
            "align_content": null,
            "visibility": null,
            "align_self": null,
            "height": null,
            "min_height": null,
            "padding": null,
            "grid_auto_rows": null,
            "grid_gap": null,
            "max_width": null,
            "order": null,
            "_view_module_version": "1.2.0",
            "grid_template_areas": null,
            "object_position": null,
            "object_fit": null,
            "grid_auto_columns": null,
            "margin": null,
            "display": null,
            "left": null
          }
        },
        "370125dd02394189b64ba49c7319bb39": {
          "model_module": "@jupyter-widgets/controls",
          "model_name": "DescriptionStyleModel",
          "state": {
            "_view_name": "StyleView",
            "_model_name": "DescriptionStyleModel",
            "description_width": "",
            "_view_module": "@jupyter-widgets/base",
            "_model_module_version": "1.5.0",
            "_view_count": null,
            "_view_module_version": "1.2.0",
            "_model_module": "@jupyter-widgets/controls"
          }
        },
        "78477269b3584999b7ec3a5c65147e35": {
          "model_module": "@jupyter-widgets/base",
          "model_name": "LayoutModel",
          "state": {
            "_view_name": "LayoutView",
            "grid_template_rows": null,
            "right": null,
            "justify_content": null,
            "_view_module": "@jupyter-widgets/base",
            "overflow": null,
            "_model_module_version": "1.2.0",
            "_view_count": null,
            "flex_flow": null,
            "width": null,
            "min_width": null,
            "border": null,
            "align_items": null,
            "bottom": null,
            "_model_module": "@jupyter-widgets/base",
            "top": null,
            "grid_column": null,
            "overflow_y": null,
            "overflow_x": null,
            "grid_auto_flow": null,
            "grid_area": null,
            "grid_template_columns": null,
            "flex": null,
            "_model_name": "LayoutModel",
            "justify_items": null,
            "grid_row": null,
            "max_height": null,
            "align_content": null,
            "visibility": null,
            "align_self": null,
            "height": null,
            "min_height": null,
            "padding": null,
            "grid_auto_rows": null,
            "grid_gap": null,
            "max_width": null,
            "order": null,
            "_view_module_version": "1.2.0",
            "grid_template_areas": null,
            "object_position": null,
            "object_fit": null,
            "grid_auto_columns": null,
            "margin": null,
            "display": null,
            "left": null
          }
        },
        "eb23789c0a5a49dabf9c64c090849ccc": {
          "model_module": "@jupyter-widgets/controls",
          "model_name": "HBoxModel",
          "state": {
            "_view_name": "HBoxView",
            "_dom_classes": [],
            "_model_name": "HBoxModel",
            "_view_module": "@jupyter-widgets/controls",
            "_model_module_version": "1.5.0",
            "_view_count": null,
            "_view_module_version": "1.5.0",
            "box_style": "",
            "layout": "IPY_MODEL_c7e585a8f2f8437cb7e4841c1a9e533e",
            "_model_module": "@jupyter-widgets/controls",
            "children": [
              "IPY_MODEL_3a17a63bb6764e89b2f8ebbe34a7b066",
              "IPY_MODEL_f7174c3c126545f08ad1b53d7f29b255"
            ]
          }
        },
        "c7e585a8f2f8437cb7e4841c1a9e533e": {
          "model_module": "@jupyter-widgets/base",
          "model_name": "LayoutModel",
          "state": {
            "_view_name": "LayoutView",
            "grid_template_rows": null,
            "right": null,
            "justify_content": null,
            "_view_module": "@jupyter-widgets/base",
            "overflow": null,
            "_model_module_version": "1.2.0",
            "_view_count": null,
            "flex_flow": null,
            "width": null,
            "min_width": null,
            "border": null,
            "align_items": null,
            "bottom": null,
            "_model_module": "@jupyter-widgets/base",
            "top": null,
            "grid_column": null,
            "overflow_y": null,
            "overflow_x": null,
            "grid_auto_flow": null,
            "grid_area": null,
            "grid_template_columns": null,
            "flex": null,
            "_model_name": "LayoutModel",
            "justify_items": null,
            "grid_row": null,
            "max_height": null,
            "align_content": null,
            "visibility": null,
            "align_self": null,
            "height": null,
            "min_height": null,
            "padding": null,
            "grid_auto_rows": null,
            "grid_gap": null,
            "max_width": null,
            "order": null,
            "_view_module_version": "1.2.0",
            "grid_template_areas": null,
            "object_position": null,
            "object_fit": null,
            "grid_auto_columns": null,
            "margin": null,
            "display": null,
            "left": null
          }
        },
        "3a17a63bb6764e89b2f8ebbe34a7b066": {
          "model_module": "@jupyter-widgets/controls",
          "model_name": "FloatProgressModel",
          "state": {
            "_view_name": "ProgressView",
            "style": "IPY_MODEL_fb19a70cd2c94a6e956769a864a451e3",
            "_dom_classes": [],
            "description": "Downloading: 100%",
            "_model_name": "FloatProgressModel",
            "bar_style": "success",
            "max": 440473133,
            "_view_module": "@jupyter-widgets/controls",
            "_model_module_version": "1.5.0",
            "value": 440473133,
            "_view_count": null,
            "_view_module_version": "1.5.0",
            "orientation": "horizontal",
            "min": 0,
            "description_tooltip": null,
            "_model_module": "@jupyter-widgets/controls",
            "layout": "IPY_MODEL_3b4065601b824c80bf3b393c9cfdc10d"
          }
        },
        "f7174c3c126545f08ad1b53d7f29b255": {
          "model_module": "@jupyter-widgets/controls",
          "model_name": "HTMLModel",
          "state": {
            "_view_name": "HTMLView",
            "style": "IPY_MODEL_94ae2518d1284facaf7dfc4ece3a2a0b",
            "_dom_classes": [],
            "description": "",
            "_model_name": "HTMLModel",
            "placeholder": "​",
            "_view_module": "@jupyter-widgets/controls",
            "_model_module_version": "1.5.0",
            "value": " 440M/440M [00:15&lt;00:00, 28.1MB/s]",
            "_view_count": null,
            "_view_module_version": "1.5.0",
            "description_tooltip": null,
            "_model_module": "@jupyter-widgets/controls",
            "layout": "IPY_MODEL_8fd190ca02ff49cdb80b81a99e1ac8f0"
          }
        },
        "fb19a70cd2c94a6e956769a864a451e3": {
          "model_module": "@jupyter-widgets/controls",
          "model_name": "ProgressStyleModel",
          "state": {
            "_view_name": "StyleView",
            "_model_name": "ProgressStyleModel",
            "description_width": "initial",
            "_view_module": "@jupyter-widgets/base",
            "_model_module_version": "1.5.0",
            "_view_count": null,
            "_view_module_version": "1.2.0",
            "bar_color": null,
            "_model_module": "@jupyter-widgets/controls"
          }
        },
        "3b4065601b824c80bf3b393c9cfdc10d": {
          "model_module": "@jupyter-widgets/base",
          "model_name": "LayoutModel",
          "state": {
            "_view_name": "LayoutView",
            "grid_template_rows": null,
            "right": null,
            "justify_content": null,
            "_view_module": "@jupyter-widgets/base",
            "overflow": null,
            "_model_module_version": "1.2.0",
            "_view_count": null,
            "flex_flow": null,
            "width": null,
            "min_width": null,
            "border": null,
            "align_items": null,
            "bottom": null,
            "_model_module": "@jupyter-widgets/base",
            "top": null,
            "grid_column": null,
            "overflow_y": null,
            "overflow_x": null,
            "grid_auto_flow": null,
            "grid_area": null,
            "grid_template_columns": null,
            "flex": null,
            "_model_name": "LayoutModel",
            "justify_items": null,
            "grid_row": null,
            "max_height": null,
            "align_content": null,
            "visibility": null,
            "align_self": null,
            "height": null,
            "min_height": null,
            "padding": null,
            "grid_auto_rows": null,
            "grid_gap": null,
            "max_width": null,
            "order": null,
            "_view_module_version": "1.2.0",
            "grid_template_areas": null,
            "object_position": null,
            "object_fit": null,
            "grid_auto_columns": null,
            "margin": null,
            "display": null,
            "left": null
          }
        },
        "94ae2518d1284facaf7dfc4ece3a2a0b": {
          "model_module": "@jupyter-widgets/controls",
          "model_name": "DescriptionStyleModel",
          "state": {
            "_view_name": "StyleView",
            "_model_name": "DescriptionStyleModel",
            "description_width": "",
            "_view_module": "@jupyter-widgets/base",
            "_model_module_version": "1.5.0",
            "_view_count": null,
            "_view_module_version": "1.2.0",
            "_model_module": "@jupyter-widgets/controls"
          }
        },
        "8fd190ca02ff49cdb80b81a99e1ac8f0": {
          "model_module": "@jupyter-widgets/base",
          "model_name": "LayoutModel",
          "state": {
            "_view_name": "LayoutView",
            "grid_template_rows": null,
            "right": null,
            "justify_content": null,
            "_view_module": "@jupyter-widgets/base",
            "overflow": null,
            "_model_module_version": "1.2.0",
            "_view_count": null,
            "flex_flow": null,
            "width": null,
            "min_width": null,
            "border": null,
            "align_items": null,
            "bottom": null,
            "_model_module": "@jupyter-widgets/base",
            "top": null,
            "grid_column": null,
            "overflow_y": null,
            "overflow_x": null,
            "grid_auto_flow": null,
            "grid_area": null,
            "grid_template_columns": null,
            "flex": null,
            "_model_name": "LayoutModel",
            "justify_items": null,
            "grid_row": null,
            "max_height": null,
            "align_content": null,
            "visibility": null,
            "align_self": null,
            "height": null,
            "min_height": null,
            "padding": null,
            "grid_auto_rows": null,
            "grid_gap": null,
            "max_width": null,
            "order": null,
            "_view_module_version": "1.2.0",
            "grid_template_areas": null,
            "object_position": null,
            "object_fit": null,
            "grid_auto_columns": null,
            "margin": null,
            "display": null,
            "left": null
          }
        }
      }
    }
  },
  "cells": [
    {
      "cell_type": "markdown",
      "metadata": {
        "id": "BVG1mGaIUwLs"
      },
      "source": [
        "# Using Semantic Role Labeling for Text Classfication"
      ]
    },
    {
      "cell_type": "markdown",
      "metadata": {
        "id": "1MRuhuLXZRvk"
      },
      "source": [
        "Partner: Canada Digital Analytics Team\n",
        "\n",
        "Mentor: Jungyeul Park\n",
        "\n",
        "Version: 2021.05.28\n",
        "\n",
        "Author: Alex Chen"
      ]
    },
    {
      "cell_type": "markdown",
      "metadata": {
        "id": "5Gly1lAzVIt6"
      },
      "source": [
        "## Overview\n",
        "\n",
        "### Objectives\n",
        "\n",
        "- Set up a Semantic Role Labeling (SRL) pipepine\n",
        "- Use it to extract linguistic features from a sentence\n",
        "- (Optional) Transform output to be used as input for other model(s)\n",
        "\n",
        "### Deliverable\n",
        "\n",
        "a function:\n",
        "- input (str): `U.N. official Ekeus goes to Baghdad.`\n",
        "- output (str): `B-ARG0,I-ARG0,I-ARG0,B-V,B-ARG4,I-ARG4,O`\n",
        "\n",
        "]"
      ]
    },
    {
      "cell_type": "markdown",
      "metadata": {
        "id": "henQ6CKQlgc2"
      },
      "source": [
        "\n",
        "## Implementation\n"
      ]
    },
    {
      "cell_type": "markdown",
      "metadata": {
        "id": "epeRApQEliMo"
      },
      "source": [
        "\n",
        "### Tech specs\n",
        "\n",
        "- model: SRL BERT via AllenNLP"
      ]
    },
    {
      "cell_type": "markdown",
      "metadata": {
        "id": "dEZdH0KEaPNO"
      },
      "source": [
        "### Set-up"
      ]
    },
    {
      "cell_type": "code",
      "metadata": {
        "id": "2RMNlJI49YwB"
      },
      "source": [
        "import pandas as pd\n",
        "import spacy\n",
        "import re\n",
        "from IPython.display import clear_output\n",
        "# from IPython.display import display, HTML"
      ],
      "execution_count": 3,
      "outputs": []
    },
    {
      "cell_type": "code",
      "metadata": {
        "colab": {
          "base_uri": "https://localhost:8080/"
        },
        "id": "7nLAyDKe9xrz",
        "outputId": "6fef1787-2442-4d28-ac51-e46579aa7b31"
      },
      "source": [
        "!pip install allennlp==2.1.0 allennlp-models==2.1.0\n",
        "clear_output()\n",
        "print('model installed.')"
      ],
      "execution_count": 4,
      "outputs": [
        {
          "output_type": "stream",
          "text": [
            "model installed.\n"
          ],
          "name": "stdout"
        }
      ]
    },
    {
      "cell_type": "code",
      "metadata": {
        "id": "C5M5_k6e486a"
      },
      "source": [
        "ALLENNLP_MODEL_PATH = 'https://storage.googleapis.com/allennlp-public-models/structured-prediction-srl-bert.2020.12.15.tar.gz'\n"
      ],
      "execution_count": 5,
      "outputs": []
    },
    {
      "cell_type": "code",
      "metadata": {
        "colab": {
          "base_uri": "https://localhost:8080/",
          "height": 309,
          "referenced_widgets": [
            "6f4c72cf118a47afbc725ff37faef597",
            "1cdb4e0c863243738cd0be4e70f1d8f5",
            "140b78ccc0034f80baf7a97831e688c5",
            "8d9baaa86d794ab1b4cf19118e5b00c2",
            "4fca45d52ebb457aad0ad6ee76f0f4ab",
            "79c32c978a3c447386d2cbd47ed1ff60",
            "65c94736fb4c4822bc40c9551860b6f1",
            "27470a71ba9f4da596893c4e958a3af8",
            "260947cb579949d0af155f309d778796",
            "18bb1b61f20d49b89f417d1c877d19e9",
            "f84d4966e65b466d93ef149078182843",
            "6747757d87cf4281a0740aeee0a348a8",
            "abc3073188954b6c999b2a9f085ff98d",
            "feeb4af283d54a4baaa9daa2a0a94077",
            "201bba7e14c34028a8863cea25249e30",
            "4990209b91ce4fb1b3e3cf04e666d52e",
            "686730956c73470bbf1d499fa136f9c1",
            "41a26e55fa2c407daad63d3665f02d43",
            "21d25cb722a64666bf09c71cdcef888d",
            "3ecedb989bd64b3284b0dbf4a06448a3",
            "931a7113060847f9a849e0f5a022235f",
            "851bdfadd894484d9bd6df42ebaaa002",
            "370125dd02394189b64ba49c7319bb39",
            "78477269b3584999b7ec3a5c65147e35",
            "eb23789c0a5a49dabf9c64c090849ccc",
            "c7e585a8f2f8437cb7e4841c1a9e533e",
            "3a17a63bb6764e89b2f8ebbe34a7b066",
            "f7174c3c126545f08ad1b53d7f29b255",
            "fb19a70cd2c94a6e956769a864a451e3",
            "3b4065601b824c80bf3b393c9cfdc10d",
            "94ae2518d1284facaf7dfc4ece3a2a0b",
            "8fd190ca02ff49cdb80b81a99e1ac8f0"
          ]
        },
        "id": "qBJrE_jj486d",
        "outputId": "c951d9cf-c90c-4960-88fb-8da8ba5c0081"
      },
      "source": [
        "# this can take a while for the first call\n",
        "from allennlp.predictors.predictor import Predictor\n",
        "import allennlp_models.tagging\n",
        "pretrained_precitor = Predictor.from_path(ALLENNLP_MODEL_PATH)\n",
        "clear_output()\n",
        "print('model loaded.')"
      ],
      "execution_count": 6,
      "outputs": [
        {
          "output_type": "stream",
          "text": [
            "model loaded.\n"
          ],
          "name": "stdout"
        }
      ]
    },
    {
      "cell_type": "markdown",
      "metadata": {
        "id": "qXtw0kTpaWRx"
      },
      "source": [
        "### Build a single-comment pipeline\n"
      ]
    },
    {
      "cell_type": "markdown",
      "metadata": {
        "id": "LJ0ixiQlN5bx"
      },
      "source": [
        "#### Write a function"
      ]
    },
    {
      "cell_type": "code",
      "metadata": {
        "id": "7JkkxAdFJmkz"
      },
      "source": [
        "def sentence2roles(predictor, sentence):\n",
        "    \"\"\"\n",
        "    Convert a setence to list of semantic roles of a word in the sentence.\n",
        "    :param predictor: pre-trained model\n",
        "    :param sentence(str): a sentence\n",
        "    :return (str), delimited by comma, each part being the semantic roles\n",
        "    \"\"\"\n",
        "    model_output = predictor.predict(sentence=sentence)\n",
        "    verbs = model_output['verbs']\n",
        "    \n",
        "    i = 0  # by default, only check the first frameset\n",
        "    try:\n",
        "        return ','.join(model_output['verbs'][i]['tags'])\n",
        "    except: # when SRL model detects 0 frameset\n",
        "        return ''\n",
        "\n"
      ],
      "execution_count": 7,
      "outputs": []
    },
    {
      "cell_type": "markdown",
      "metadata": {
        "id": "WwfU6vnNawyZ"
      },
      "source": [
        "#### Run a test"
      ]
    },
    {
      "cell_type": "code",
      "metadata": {
        "colab": {
          "base_uri": "https://localhost:8080/",
          "height": 34
        },
        "id": "iJCM8W4J486e",
        "outputId": "2cf28c4a-8c28-419d-9278-591ad45371aa"
      },
      "source": [
        "test_comment = \"\"\"U.N. official Ekeus goes to Baghdad.\"\"\"\n",
        "\n",
        "sentence2roles(predictor=pretrained_precitor, sentence=test_comment)"
      ],
      "execution_count": 8,
      "outputs": [
        {
          "output_type": "execute_result",
          "data": {
            "application/vnd.google.colaboratory.intrinsic+json": {
              "type": "string"
            },
            "text/plain": [
              "'B-ARG0,I-ARG0,I-ARG0,B-V,B-ARG4,I-ARG4,O'"
            ]
          },
          "metadata": {
            "tags": []
          },
          "execution_count": 8
        }
      ]
    },
    {
      "cell_type": "markdown",
      "metadata": {
        "id": "TTM0KOyrw19e"
      },
      "source": [
        "Up to this point, we have done all we set out to do. \n",
        "\n",
        "If intergrated, the pipeline can process text in batch.  Please find a demo in section below.\n"
      ]
    },
    {
      "cell_type": "markdown",
      "metadata": {
        "id": "wI7Pey4ZAkyH"
      },
      "source": [
        "### Scale up\n",
        "\n",
        "Now that we have a pipeline working for a single comment. We use it to process more."
      ]
    },
    {
      "cell_type": "markdown",
      "metadata": {
        "id": "ohzxKjZfHFPF"
      },
      "source": [
        "#### Load data"
      ]
    },
    {
      "cell_type": "code",
      "metadata": {
        "id": "BgTjhsJUg2Az"
      },
      "source": [
        "\n",
        "FILE_ID_FROM_YUNDONG = '1FL1pA7hjayBd8Ffptzj1RkpqtL5-Q7vnK1rDD3ox2Xc'\n",
        "local_tsv_path = 'input.tsv'\n",
        "\n",
        "def gs2tsv(FILE_ID=FILE_ID_FROM_YUNDONG,outname=local_tsv_path):\n",
        "    tsv_link = 'https://docs.google.com/spreadsheets/d/'+FILE_ID+'/export?format=tsv'\n",
        "    !wget $tsv_link -O $outname\n",
        "    clear_output()\n",
        "    print(outname, 'downloaded.')\n",
        "    return\n"
      ],
      "execution_count": 9,
      "outputs": []
    },
    {
      "cell_type": "code",
      "metadata": {
        "colab": {
          "base_uri": "https://localhost:8080/"
        },
        "id": "03ZH7SHET8Cj",
        "outputId": "1000261c-14d4-4392-b458-666e1a1a3312"
      },
      "source": [
        "gs2tsv()"
      ],
      "execution_count": 10,
      "outputs": [
        {
          "output_type": "stream",
          "text": [
            "input.tsv downloaded.\n"
          ],
          "name": "stdout"
        }
      ]
    },
    {
      "cell_type": "code",
      "metadata": {
        "id": "0IoknneN1_Ee"
      },
      "source": [
        "def tsv2df(inname=local_tsv_path):\n",
        "    indf = pd.read_csv(inname, sep='\\t', header=0)\n",
        "    return indf\n"
      ],
      "execution_count": 11,
      "outputs": []
    },
    {
      "cell_type": "code",
      "metadata": {
        "colab": {
          "base_uri": "https://localhost:8080/",
          "height": 140
        },
        "id": "Lzv_kNuVT9jT",
        "outputId": "70e94609-1997-4840-e615-4e740cf9670b"
      },
      "source": [
        "\n",
        "test_indf = tsv2df()\n",
        "test_indf.head(3)"
      ],
      "execution_count": 13,
      "outputs": [
        {
          "output_type": "execute_result",
          "data": {
            "text/html": [
              "<div>\n",
              "<style scoped>\n",
              "    .dataframe tbody tr th:only-of-type {\n",
              "        vertical-align: middle;\n",
              "    }\n",
              "\n",
              "    .dataframe tbody tr th {\n",
              "        vertical-align: top;\n",
              "    }\n",
              "\n",
              "    .dataframe thead th {\n",
              "        text-align: right;\n",
              "    }\n",
              "</style>\n",
              "<table border=\"1\" class=\"dataframe\">\n",
              "  <thead>\n",
              "    <tr style=\"text-align: right;\">\n",
              "      <th></th>\n",
              "      <th>Unique ID</th>\n",
              "      <th>Domain</th>\n",
              "      <th>Comment</th>\n",
              "      <th>Tags</th>\n",
              "    </tr>\n",
              "  </thead>\n",
              "  <tbody>\n",
              "    <tr>\n",
              "      <th>0</th>\n",
              "      <td>6070f5c0800d871e0c75d919</td>\n",
              "      <td>Vaccine</td>\n",
              "      <td>I got my jab on March 29. Your literature says...</td>\n",
              "      <td>Vaccine effectiveness / delayed dosage</td>\n",
              "    </tr>\n",
              "    <tr>\n",
              "      <th>1</th>\n",
              "      <td>606ac6aa8d190c273ca7ebe3</td>\n",
              "      <td>Vaccine</td>\n",
              "      <td>How reliable the shipment is ??     Spending o...</td>\n",
              "      <td>Data and tracking vaccines</td>\n",
              "    </tr>\n",
              "    <tr>\n",
              "      <th>2</th>\n",
              "      <td>601c05426c4b8d189822fcec</td>\n",
              "      <td>Vaccine</td>\n",
              "      <td>Critical missing info:    Fed Govt needs to ma...</td>\n",
              "      <td>Data and tracking vaccines</td>\n",
              "    </tr>\n",
              "  </tbody>\n",
              "</table>\n",
              "</div>"
            ],
            "text/plain": [
              "                  Unique ID  ...                                    Tags\n",
              "0  6070f5c0800d871e0c75d919  ...  Vaccine effectiveness / delayed dosage\n",
              "1  606ac6aa8d190c273ca7ebe3  ...              Data and tracking vaccines\n",
              "2  601c05426c4b8d189822fcec  ...              Data and tracking vaccines\n",
              "\n",
              "[3 rows x 4 columns]"
            ]
          },
          "metadata": {
            "tags": []
          },
          "execution_count": 13
        }
      ]
    },
    {
      "cell_type": "code",
      "metadata": {
        "id": "XupOxXjng2fX"
      },
      "source": [
        "def df2df(indf):\n",
        "    dfs = []\n",
        "    for idx, row in indf.iterrows():\n",
        "        id = row['Unique ID']\n",
        "        cmt = row['Comment']\n",
        "        srl = [sentence2roles(predictor=pretrained_precitor, sentence=cmt)]\n",
        "        df_to_append = pd.DataFrame(\n",
        "            {'id': id,\n",
        "             'cmt': cmt,\n",
        "             'srl': srl\n",
        "             })\n",
        "        dfs.append(df_to_append) \n",
        "        out_df = pd.concat(dfs)\n",
        "    return out_df#.reset_index()\n"
      ],
      "execution_count": 14,
      "outputs": []
    },
    {
      "cell_type": "code",
      "metadata": {
        "id": "FmoVMTul486f"
      },
      "source": [
        "def fileId2df(file_id=FILE_ID_FROM_YUNDONG):\n",
        "    gs2tsv(file_id)\n",
        "    indf = tsv2df()\n",
        "    outdf = df2df(indf)\n",
        "    return outdf.reset_index(drop=True)"
      ],
      "execution_count": 15,
      "outputs": []
    },
    {
      "cell_type": "code",
      "metadata": {
        "colab": {
          "base_uri": "https://localhost:8080/",
          "height": 217
        },
        "id": "6HoASabWL5lu",
        "outputId": "49594cff-a4a9-4853-af22-6c1f4ccd55f4"
      },
      "source": [
        "fileId2df()"
      ],
      "execution_count": 16,
      "outputs": [
        {
          "output_type": "stream",
          "text": [
            "input.tsv downloaded.\n"
          ],
          "name": "stdout"
        },
        {
          "output_type": "execute_result",
          "data": {
            "text/html": [
              "<div>\n",
              "<style scoped>\n",
              "    .dataframe tbody tr th:only-of-type {\n",
              "        vertical-align: middle;\n",
              "    }\n",
              "\n",
              "    .dataframe tbody tr th {\n",
              "        vertical-align: top;\n",
              "    }\n",
              "\n",
              "    .dataframe thead th {\n",
              "        text-align: right;\n",
              "    }\n",
              "</style>\n",
              "<table border=\"1\" class=\"dataframe\">\n",
              "  <thead>\n",
              "    <tr style=\"text-align: right;\">\n",
              "      <th></th>\n",
              "      <th>id</th>\n",
              "      <th>cmt</th>\n",
              "      <th>srl</th>\n",
              "    </tr>\n",
              "  </thead>\n",
              "  <tbody>\n",
              "    <tr>\n",
              "      <th>0</th>\n",
              "      <td>6070f5c0800d871e0c75d919</td>\n",
              "      <td>I got my jab on March 29. Your literature says...</td>\n",
              "      <td>B-ARG0,B-V,B-ARG1,I-ARG1,B-ARGM-TMP,I-ARGM-TMP...</td>\n",
              "    </tr>\n",
              "    <tr>\n",
              "      <th>1</th>\n",
              "      <td>606ac6aa8d190c273ca7ebe3</td>\n",
              "      <td>How reliable the shipment is ??     Spending o...</td>\n",
              "      <td>B-ARG2,I-ARG2,B-ARG1,I-ARG1,B-V,O,O,O,O,O,O,O,...</td>\n",
              "    </tr>\n",
              "    <tr>\n",
              "      <th>2</th>\n",
              "      <td>601c05426c4b8d189822fcec</td>\n",
              "      <td>Critical missing info:    Fed Govt needs to ma...</td>\n",
              "      <td>O,B-V,B-ARG1,O,O,O,O,O,O,O,O,O,O,O,O,O,O,O,O,O...</td>\n",
              "    </tr>\n",
              "    <tr>\n",
              "      <th>3</th>\n",
              "      <td>604e366623caed19c087f936</td>\n",
              "      <td>When coming from Portugal and the itinerary is...</td>\n",
              "      <td>B-ARGM-TMP,B-V,B-ARG3,I-ARG3,O,B-ARGM-DIR,I-AR...</td>\n",
              "    </tr>\n",
              "    <tr>\n",
              "      <th>4</th>\n",
              "      <td>604498689a91901f24b82c39</td>\n",
              "      <td>Pre-entry test requirements:  You must show pr...</td>\n",
              "      <td>O,O,O,O,O,O,O,B-V,O,O,O,O,O,O,O,O,O,O,O,O,O,O,...</td>\n",
              "    </tr>\n",
              "  </tbody>\n",
              "</table>\n",
              "</div>"
            ],
            "text/plain": [
              "                         id  ...                                                srl\n",
              "0  6070f5c0800d871e0c75d919  ...  B-ARG0,B-V,B-ARG1,I-ARG1,B-ARGM-TMP,I-ARGM-TMP...\n",
              "1  606ac6aa8d190c273ca7ebe3  ...  B-ARG2,I-ARG2,B-ARG1,I-ARG1,B-V,O,O,O,O,O,O,O,...\n",
              "2  601c05426c4b8d189822fcec  ...  O,B-V,B-ARG1,O,O,O,O,O,O,O,O,O,O,O,O,O,O,O,O,O...\n",
              "3  604e366623caed19c087f936  ...  B-ARGM-TMP,B-V,B-ARG3,I-ARG3,O,B-ARGM-DIR,I-AR...\n",
              "4  604498689a91901f24b82c39  ...  O,O,O,O,O,O,O,B-V,O,O,O,O,O,O,O,O,O,O,O,O,O,O,...\n",
              "\n",
              "[5 rows x 3 columns]"
            ]
          },
          "metadata": {
            "tags": []
          },
          "execution_count": 16
        }
      ]
    },
    {
      "cell_type": "markdown",
      "metadata": {
        "id": "M9ehWWnAez8r"
      },
      "source": [
        "## Next steps\n",
        "\n",
        "We would like to get more feedback before taking the next step. \n",
        "\n",
        "For now we are reading Rago(2018) and Yi(2007) for reference."
      ]
    },
    {
      "cell_type": "code",
      "metadata": {
        "id": "YsuZEKfe4w9k"
      },
      "source": [
        ""
      ],
      "execution_count": 17,
      "outputs": []
    }
  ]
}