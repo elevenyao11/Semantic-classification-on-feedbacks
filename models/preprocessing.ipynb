{
 "cells": [
  {
   "cell_type": "markdown",
   "metadata": {},
   "source": [
    "# Preprocessing"
   ]
  },
  {
   "cell_type": "markdown",
   "metadata": {},
   "source": [
    "- This file collects preprocessing from travel_bert.ipynb, LinearSVC.ipynb and a tutorial from COLX_585. \n",
    "- The input is data path and domain name. The output is vectorized batches."
   ]
  },
  {
   "cell_type": "code",
   "execution_count": 26,
   "metadata": {},
   "outputs": [],
   "source": [
    "import torch\n",
    "import torchtext\n",
    "from torchtext.data import Field, LabelField\n",
    "from torchtext.data import TabularDataset\n",
    "from torchtext.data import Iterator, BucketIterator\n",
    "import spacy\n",
    "import en_core_web_sm\n",
    "from torch.utils.data import TensorDataset, DataLoader, RandomSampler, SequentialSampler\n",
    "import pandas as pd\n",
    "from sklearn.model_selection import train_test_split"
   ]
  },
  {
   "cell_type": "code",
   "execution_count": null,
   "metadata": {},
   "outputs": [],
   "source": [
    "## Set seed of randomization and working device\n",
    "manual_seed = 77\n",
    "torch.manual_seed(manual_seed)\n",
    "device = torch.device(\"cuda\" if torch.cuda.is_available() else \"cpu\")\n",
    "print(device)\n",
    "n_gpu = torch.cuda.device_count()\n",
    "if n_gpu > 0:\n",
    "    torch.cuda.manual_seed(manual_seed)"
   ]
  },
  {
   "cell_type": "markdown",
   "metadata": {},
   "source": [
    "## 1. Read data"
   ]
  },
  {
   "cell_type": "code",
   "execution_count": 3,
   "metadata": {},
   "outputs": [],
   "source": [
    "def read_data(path, checked = False):\n",
    "    \"\"\"\n",
    "    This function reads a csv file and filters out na and non-freq tags.\n",
    "    \n",
    "    Parameters: \n",
    "    ------------\n",
    "        path: data path\n",
    "        checked: boolean (True-only use checked data, False-use all data)\n",
    "    Return:\n",
    "    ------------\n",
    "        df: filtered data\n",
    "    \"\"\"\n",
    "    df = pd.read_csv(path)\n",
    "    df = df.dropna() # drop na\n",
    "    if checked: # only use the checked data \n",
    "        df = df[df['Tags confirmed']=='checked'] \n",
    "    # remove tags that occur only once\n",
    "    value_counts = df['Tags'].value_counts()\n",
    "    remove_rows = value_counts[value_counts < 2].index\n",
    "    df = df[~df.Tags.isin(remove_rows)]\n",
    "    return df"
   ]
  },
  {
   "cell_type": "code",
   "execution_count": 22,
   "metadata": {},
   "outputs": [
    {
     "data": {
      "text/html": [
       "<div>\n",
       "<style scoped>\n",
       "    .dataframe tbody tr th:only-of-type {\n",
       "        vertical-align: middle;\n",
       "    }\n",
       "\n",
       "    .dataframe tbody tr th {\n",
       "        vertical-align: top;\n",
       "    }\n",
       "\n",
       "    .dataframe thead th {\n",
       "        text-align: right;\n",
       "    }\n",
       "</style>\n",
       "<table border=\"1\" class=\"dataframe\">\n",
       "  <thead>\n",
       "    <tr style=\"text-align: right;\">\n",
       "      <th></th>\n",
       "      <th>Unique ID</th>\n",
       "      <th>Domain</th>\n",
       "      <th>Comment</th>\n",
       "      <th>Tags</th>\n",
       "    </tr>\n",
       "  </thead>\n",
       "  <tbody>\n",
       "    <tr>\n",
       "      <th>0</th>\n",
       "      <td>6070f5c0800d871e0c75d919</td>\n",
       "      <td>Vaccine</td>\n",
       "      <td>I got my jab on March 29. Your literature says...</td>\n",
       "      <td>Vaccine effectiveness / delayed dosage</td>\n",
       "    </tr>\n",
       "    <tr>\n",
       "      <th>1</th>\n",
       "      <td>606ac6aa8d190c273ca7ebe3</td>\n",
       "      <td>Vaccine</td>\n",
       "      <td>How reliable the shipment is ?? \\r\\nSpending o...</td>\n",
       "      <td>Data and tracking vaccines</td>\n",
       "    </tr>\n",
       "    <tr>\n",
       "      <th>2</th>\n",
       "      <td>601c05426c4b8d189822fcec</td>\n",
       "      <td>Vaccine</td>\n",
       "      <td>Critical missing info:\\r\\nFed Govt needs to ma...</td>\n",
       "      <td>Data and tracking vaccines</td>\n",
       "    </tr>\n",
       "    <tr>\n",
       "      <th>3</th>\n",
       "      <td>604e366623caed19c087f936</td>\n",
       "      <td>Travel</td>\n",
       "      <td>When coming from Portugal  and  the itinerary ...</td>\n",
       "      <td>Hotels</td>\n",
       "    </tr>\n",
       "    <tr>\n",
       "      <th>4</th>\n",
       "      <td>604498689a91901f24b82c39</td>\n",
       "      <td>Travel</td>\n",
       "      <td>Pre-entry test requirements:\\nYou must show pr...</td>\n",
       "      <td>Testing</td>\n",
       "    </tr>\n",
       "  </tbody>\n",
       "</table>\n",
       "</div>"
      ],
      "text/plain": [
       "                  Unique ID   Domain  \\\n",
       "0  6070f5c0800d871e0c75d919  Vaccine   \n",
       "1  606ac6aa8d190c273ca7ebe3  Vaccine   \n",
       "2  601c05426c4b8d189822fcec  Vaccine   \n",
       "3  604e366623caed19c087f936   Travel   \n",
       "4  604498689a91901f24b82c39   Travel   \n",
       "\n",
       "                                             Comment  \\\n",
       "0  I got my jab on March 29. Your literature says...   \n",
       "1  How reliable the shipment is ?? \\r\\nSpending o...   \n",
       "2  Critical missing info:\\r\\nFed Govt needs to ma...   \n",
       "3  When coming from Portugal  and  the itinerary ...   \n",
       "4  Pre-entry test requirements:\\nYou must show pr...   \n",
       "\n",
       "                                     Tags  \n",
       "0  Vaccine effectiveness / delayed dosage  \n",
       "1              Data and tracking vaccines  \n",
       "2              Data and tracking vaccines  \n",
       "3                                  Hotels  \n",
       "4                                 Testing  "
      ]
     },
     "execution_count": 22,
     "metadata": {},
     "output_type": "execute_result"
    }
   ],
   "source": [
    "def split_and_write(df, test_size=0.2, domain=domain):\n",
    "    \"\"\"\n",
    "    This function splits train and test dataframe and write them to csv files.\n",
    "    \n",
    "    Parameters: \n",
    "    ------------\n",
    "        df: data\n",
    "        test_size: proportion of test \n",
    "        domain: domain name (vaccine, travel, etc)\n",
    "    \"\"\"\n",
    "    train_df, test_df = train_test_split(df, test_size=test_size, random_state=42)\n",
    "    train_df.to_csv(f\"../data/{domain}_train.csv\",columns=[\"Comment\", \"Tags\"], index=False)\n",
    "    test_df.to_csv(f\"../data/{domain}_test.csv\",columns=[\"Comment\", \"Tags\"], index=False)"
   ]
  },
  {
   "cell_type": "code",
   "execution_count": 2,
   "metadata": {},
   "outputs": [],
   "source": [
    "#pip install contextualSpellCheck"
   ]
  },
  {
   "cell_type": "raw",
   "metadata": {},
   "source": [
    "import spacy\n",
    "import contextualSpellCheck\n",
    "misspelling = \"UBC capstone iss awesome!\"\n",
    "nlp = spacy.load('en_core_web_sm')\n",
    "contextualSpellCheck.add_to_pipe(nlp)\n",
    "doc = nlp(misspelling)\n",
    "\n",
    "print(doc._.performed_spellCheck)\n",
    "print(doc._.outcome_spellCheck) "
   ]
  },
  {
   "cell_type": "code",
   "execution_count": null,
   "metadata": {},
   "outputs": [],
   "source": [
    "path = \"../data/Sample comments.csv\"\n",
    "domain = \"travel\" # vac, travel\n",
    "df = read_data(path)\n",
    "split_and_write(df, test_size=0.2, domain=domain)"
   ]
  },
  {
   "cell_type": "markdown",
   "metadata": {},
   "source": [
    "## 2. Torch Text"
   ]
  },
  {
   "cell_type": "markdown",
   "metadata": {},
   "source": [
    "#### Define tokenizer"
   ]
  },
  {
   "cell_type": "code",
   "execution_count": 8,
   "metadata": {},
   "outputs": [
    {
     "name": "stderr",
     "output_type": "stream",
     "text": [
      "/Users/linxuanyang/opt/miniconda3/lib/python3.8/site-packages/torchtext/data/field.py:150: UserWarning: Field class will be retired soon and moved to torchtext.legacy. Please see the most recent release notes for further information.\n",
      "  warnings.warn('{} class will be retired soon and moved to torchtext.legacy. Please see the most recent release notes for further information.'.format(self.__class__.__name__), UserWarning)\n"
     ]
    }
   ],
   "source": [
    "spacy_en = en_core_web_sm.load()\n",
    "def tokenize_en(text):\n",
    "    \"\"\"\n",
    "    Tokenizes English text from a string into a list of strings (tokens)\n",
    "    \"\"\"\n",
    "    return [tok.text for tok in spacy_en.tokenizer(text)]"
   ]
  },
  {
   "cell_type": "markdown",
   "metadata": {},
   "source": [
    "#### Define fields"
   ]
  },
  {
   "cell_type": "code",
   "execution_count": 10,
   "metadata": {},
   "outputs": [],
   "source": [
    "TEXT = Field(sequential=True, tokenize=tokenize_en, lower=True)\n",
    "LABEL = Field(sequential=False, unk_token = None)"
   ]
  },
  {
   "cell_type": "markdown",
   "metadata": {},
   "source": [
    "#### Load dataset using TabularDataset"
   ]
  },
  {
   "cell_type": "code",
   "execution_count": 28,
   "metadata": {},
   "outputs": [],
   "source": [
    "train, test = TabularDataset.splits(\n",
    "               path=\"../data/\", \n",
    "               train=f'{domain}_train.csv', test=f\"{domain}_test.csv\", # file names\n",
    "               format='csv', # file format\n",
    "               skip_header=True, # skip the first row (header)\n",
    "               fields=[('Comment', TEXT), ('Tags', LABEL)])"
   ]
  },
  {
   "cell_type": "markdown",
   "metadata": {},
   "source": [
    "#### Build vocabulary to map words and labels to integers."
   ]
  },
  {
   "cell_type": "code",
   "execution_count": 29,
   "metadata": {},
   "outputs": [],
   "source": [
    "TEXT.build_vocab(train, min_freq=2)\n",
    "LABEL.build_vocab(train)"
   ]
  },
  {
   "cell_type": "code",
   "execution_count": 30,
   "metadata": {},
   "outputs": [
    {
     "name": "stdout",
     "output_type": "stream",
     "text": [
      "Vocabulary size of TEXT: 42\n",
      "Vocabulary size of LABEL: 4\n"
     ]
    }
   ],
   "source": [
    "print(\"Vocabulary size of TEXT:\",len(TEXT.vocab.stoi))\n",
    "print(\"Vocabulary size of LABEL:\",len(LABEL.vocab.stoi))"
   ]
  },
  {
   "cell_type": "markdown",
   "metadata": {},
   "source": [
    "#### Construct the Iterators to get the train and test splits. Use BucketIterator to initialize the Iterators for the train and test data."
   ]
  },
  {
   "cell_type": "code",
   "execution_count": 36,
   "metadata": {},
   "outputs": [],
   "source": [
    "train_iter, test_iter = BucketIterator.splits(\n",
    " (train, test),\n",
    " batch_sizes=(64,256,256),\n",
    " sort_key=lambda x: len(x.Comment), \n",
    " sort=True,\n",
    " sort_within_batch=True\n",
    ")"
   ]
  },
  {
   "cell_type": "code",
   "execution_count": 39,
   "metadata": {},
   "outputs": [
    {
     "name": "stdout",
     "output_type": "stream",
     "text": [
      "Comments: torch.Size([66, 4])\n",
      "Tags: torch.Size([4])\n"
     ]
    }
   ],
   "source": [
    "# take a look at a single batch, each batch has comment shape [seq, batch size], tag shape [batch size]\n",
    "for batch in train_iter:\n",
    "    comments = batch.Comment\n",
    "    tags = batch.Tags\n",
    "    break  #we use first batch as an example.\n",
    "    \n",
    "print('Comments:', comments.shape)\n",
    "print('Tags:', tags.shape)"
   ]
  }
 ],
 "metadata": {
  "kernelspec": {
   "display_name": "Python 3",
   "language": "python",
   "name": "python3"
  },
  "language_info": {
   "codemirror_mode": {
    "name": "ipython",
    "version": 3
   },
   "file_extension": ".py",
   "mimetype": "text/x-python",
   "name": "python",
   "nbconvert_exporter": "python",
   "pygments_lexer": "ipython3",
   "version": "3.8.3"
  }
 },
 "nbformat": 4,
 "nbformat_minor": 4
}
